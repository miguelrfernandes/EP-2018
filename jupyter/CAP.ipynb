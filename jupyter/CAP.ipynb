{
 "cells": [
  {
   "cell_type": "code",
   "execution_count": 1,
   "metadata": {},
   "outputs": [],
   "source": [
    "class CAP:\n",
    "    def __init__(self):\n",
    "        self._cad = []\n",
    "\n",
    "    def adicionar(self, evento):\n",
    "        m1=0\n",
    "        m2=len(self._cad)-1\n",
    "        while m1<=m2:\n",
    "            a=(m1+m2)//2\n",
    "            if evento.tempo()>self._cad[a].tempo():\n",
    "                m1=a-1\n",
    "            else:\n",
    "                m2=a+1\n",
    "        self._cad.insert(m2,evento)\n",
    "    \n",
    "    def remover(self):\n",
    "        if len(self._cad)>0:\n",
    "            return self._cad[1:]\n",
    "        else:\n",
    "            print(\"A função remover() encontrou um erro: A CAP está vazia.\")\n",
    "            \n",
    "    def removeridentificador(self, identificador):\n",
    "        for evento in self._cad:\n",
    "            if evento.identificador()==identificador:\n",
    "                self._cad.pop(evento)\n",
    "    \n",
    "    def proximo(self):\n",
    "        if len(self._cad)>0:\n",
    "            return self._cad[0]\n",
    "        else:\n",
    "            print(\"A função proximo() encontrou um erro: A CAP está vazia.\")\n",
    "        \n",
    "    def mostrar(self):\n",
    "        for evento in self._cad:\n",
    "            print(evento.tempo(), evento.tipo())"
   ]
  },
  {
   "cell_type": "code",
   "execution_count": null,
   "metadata": {},
   "outputs": [],
   "source": []
  }
 ],
 "metadata": {
  "kernelspec": {
   "display_name": "Python 3",
   "language": "python",
   "name": "python3"
  },
  "language_info": {
   "codemirror_mode": {
    "name": "ipython",
    "version": 3
   },
   "file_extension": ".py",
   "mimetype": "text/x-python",
   "name": "python",
   "nbconvert_exporter": "python",
   "pygments_lexer": "ipython3",
   "version": "3.7.0"
  }
 },
 "nbformat": 4,
 "nbformat_minor": 2
}
