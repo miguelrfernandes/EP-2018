{
 "cells": [
  {
   "cell_type": "code",
   "execution_count": 1,
   "metadata": {},
   "outputs": [],
   "source": [
    "class Individuo:\n",
    "    \n",
    "    def __init__(self,ID,estado):\n",
    "        self._ID=ID\n",
    "        self._estado=estado\n",
    "        \n",
    "    def ID(self):\n",
    "        return self._ID\n",
    "    \n",
    "    def estado(self):\n",
    "        return self._estado\n",
    "    \n",
    "    def mostraI(self):\n",
    "        print ('ID:', self._ID,'  ','Estado:', self._estado)"
   ]
  },
  {
   "cell_type": "code",
   "execution_count": null,
   "metadata": {},
   "outputs": [],
   "source": [
    "class Grelha:\n",
    "    \n",
    "    \n",
    "    def __init__(self,N,Ps,Pi,o,cen):\n",
    "        ID=iter(range(1,4*(N**2)+4*N+2))\n",
    "        self._N=N\n",
    "        \n",
    "        w=[]\n",
    "        for j in range(2*N+1):\n",
    "            s=[]\n",
    "            for i in range(2*N+1):\n",
    "                s=s+[None]\n",
    "            w=w+[s]\n",
    "            \n",
    "        for p in o:\n",
    "            w[N-o[1]][N+o[0]]='O'\n",
    "\n",
    "        if cen==a:\n",
    "            while Ps>0:\n",
    "                p=[random.randint(-N,N),random.randint(-N,N)]\n",
    "                if w[N-p[1]][N+p[0]]==None:\n",
    "                    w[N-p[1]][N+p[0]]=Individuo(next(ID),'S')\n",
    "                Ps=Ps-1\n",
    "                \n",
    "            while Pi>0:\n",
    "                p=[random.randint(-N,N),random.randint(-N,N)]\n",
    "                if w[N-p[1]][N+p[0]]==None:\n",
    "                    w[N-p[1]][N+p[0]]=Individuo(next(ID),'I')\n",
    "                Pi=Pi-1\n",
    "                \n",
    "        if cen==b:\n",
    "            #Fazer esta merda\n",
    "            \n",
    "                \n",
    "        self.G=w\n",
    "        \n",
    "        \n",
    "        \n",
    "    def insI(self,ind,p):\n",
    "        self.G[self.N-p[1]][self.N+p[0]]=ind\n",
    "    \n",
    "    def delI(self,p):\n",
    "        self.G[self.N-p[1]][self.N+p[0]]=None\n",
    "        \n",
    "    def livreQ(self,p):\n",
    "        return self.G[self._cen-posicao[1]][self._cen+posicao[0]]==None"
   ]
  }
 ],
 "metadata": {
  "kernelspec": {
   "display_name": "Python 3",
   "language": "python",
   "name": "python3"
  },
  "language_info": {
   "codemirror_mode": {
    "name": "ipython",
    "version": 3
   },
   "file_extension": ".py",
   "mimetype": "text/x-python",
   "name": "python",
   "nbconvert_exporter": "python",
   "pygments_lexer": "ipython3",
   "version": "3.6.5"
  }
 },
 "nbformat": 4,
 "nbformat_minor": 2
}
