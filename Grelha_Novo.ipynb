{
 "cells": [
  {
   "cell_type": "code",
   "execution_count": 18,
   "metadata": {},
   "outputs": [],
   "source": [
    "class Individuo:\n",
    "    \n",
    "    def __init__(self,ID,estado):\n",
    "        self._ID=ID\n",
    "        self._estado=estado\n",
    "        \n",
    "    def ID(self):\n",
    "        return self._ID\n",
    "    \n",
    "    def estado(self):\n",
    "        return self._estado\n",
    "    \n",
    "    def mostraI(self):\n",
    "        print ('ID:', self._ID,'  ','Estado:', self._estado)"
   ]
  },
  {
   "cell_type": "code",
   "execution_count": 38,
   "metadata": {},
   "outputs": [],
   "source": [
    "import random\n",
    "\n",
    "class Grelha:\n",
    "    \n",
    "    \n",
    "    def __init__(self,N,Ps,Pi,o,cen):\n",
    "        ID=iter(range(1,4*(N**2)+4*N+2))\n",
    "        self._N=N\n",
    "        \n",
    "        w=[]\n",
    "        for j in range(2*N+1):\n",
    "            s=[]\n",
    "            for i in range(2*N+1):\n",
    "                s=s+[None]\n",
    "            w=w+[s]\n",
    "            \n",
    "        for p in o:\n",
    "            w[N-p[1]][N+p[0]]='O'\n",
    "\n",
    "        if cen==1:\n",
    "            while Ps>0:\n",
    "                p=[random.randint(-N,N),random.randint(-N,N)]\n",
    "                if w[N-p[1]][N+p[0]]==None:\n",
    "                    w[N-p[1]][N+p[0]]=Individuo(next(ID),'S')\n",
    "                Ps=Ps-1\n",
    "                \n",
    "            while Pi>0:\n",
    "                p=[random.randint(-N,N),random.randint(-N,N)]\n",
    "                if w[N-p[1]][N+p[0]]==None:\n",
    "                    w[N-p[1]][N+p[0]]=Individuo(next(ID),'I')\n",
    "                Pi=Pi-1\n",
    "                \n",
    "        #if cen==b:\n",
    "            #Fazer esta merda\n",
    "             \n",
    "        self.G=w \n",
    "        \n",
    "    def insI(self,ind,p):\n",
    "        self.G[self.N-p[1]][self.N+p[0]]=ind\n",
    "    \n",
    "    def delI(self,p):\n",
    "        self.G[self.N-p[1]][self.N+p[0]]=None\n",
    "        \n",
    "    def livreQ(self,p):\n",
    "        return self.G[self._cen-posicao[1]][self._cen+posicao[0]]==None\n",
    "    \n",
    "    \n",
    "    \n",
    "    \n",
    "\n",
    "    \n",
    "    def c_estados(self):\n",
    "        w=[[],[],[],[]]\n",
    "        i=0\n",
    "        while i<len(self.G):\n",
    "            j=0\n",
    "            while j<len(self.G):\n",
    "                if self.G[i][j] is not None and not isinstance(self.G[i][j],str):\n",
    "                    if self.G[i][j]._estado=='S':\n",
    "                        w[0]=w[0]+[(j-self.N,self.N-i)]\n",
    "                    if self.G[i][j]._estado=='E':\n",
    "                        w[1]=w[1]+[(j-self.N,self.N-i)]\n",
    "                    if self.G[i][j]._estado=='I':\n",
    "                        w[2]=w[2]+[(j-self.N,self.N-i)]\n",
    "                    if self.G[i][j]._estado=='R':\n",
    "                        w[3]=w[3]+[(j-self.N,self.N-i)]\n",
    "                j+=1\n",
    "            i+=1\n",
    "        return w\n",
    "    \n",
    "    def mostraG(self):\n",
    "        print (len(self.G)*' _')\n",
    "        for i in self.G:\n",
    "            for j in i:\n",
    "                print('|', end=\"\")\n",
    "                if j=='O':\n",
    "                    print ('\\u25AA',end=\"\")\n",
    "                elif j==None:\n",
    "                    print ('_',end=\"\")\n",
    "                else:\n",
    "                    print (j._estado,end=\"\")\n",
    "            print ('|')"
   ]
  },
  {
   "cell_type": "code",
   "execution_count": 54,
   "metadata": {},
   "outputs": [],
   "source": [
    "G=Grelha(2,2,2,[(-2,1),(-2,2),(-2,3),(0,0),(1,1),(2,-2),(2,-2),(2,0),(2,1),(2,2)],1)"
   ]
  },
  {
   "cell_type": "code",
   "execution_count": 55,
   "metadata": {},
   "outputs": [
    {
     "name": "stdout",
     "output_type": "stream",
     "text": [
      " _ _ _ _ _\n",
      "|▪|_|I|_|▪|\n",
      "|▪|_|_|▪|▪|\n",
      "|S|_|▪|_|▪|\n",
      "|_|I|_|_|_|\n",
      "|▪|_|_|_|▪|\n"
     ]
    }
   ],
   "source": [
    "G.mostraG()"
   ]
  },
  {
   "cell_type": "markdown",
   "metadata": {},
   "source": []
  }
 ],
 "metadata": {
  "kernelspec": {
   "display_name": "Python 3",
   "language": "python",
   "name": "python3"
  },
  "language_info": {
   "codemirror_mode": {
    "name": "ipython",
    "version": 3
   },
   "file_extension": ".py",
   "mimetype": "text/x-python",
   "name": "python",
   "nbconvert_exporter": "python",
   "pygments_lexer": "ipython3",
   "version": "3.6.5"
  }
 },
 "nbformat": 4,
 "nbformat_minor": 2
}
