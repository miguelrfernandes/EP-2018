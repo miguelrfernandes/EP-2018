{
 "cells": [
  {
   "cell_type": "code",
   "execution_count": 6,
   "metadata": {},
   "outputs": [],
   "source": [
    "class evento:\n",
    "    def __init__(self,ID,tipo,tempo):\n",
    "        self._tempo=tempo\n",
    "        self._tipo=tipo\n",
    "        self._ID=ID\n",
    "\n",
    "    def tempo(self):\n",
    "        return self._tempo\n",
    "\n",
    "    def tipo(self):\n",
    "        return self._tipo\n",
    "            \n",
    "    def ID(self):\n",
    "        return self._ID\n",
    "    \n",
    "    def mostraE(self):\n",
    "        print ('ID:', self._ID,'  ','Tipo:', self._tipo,'  ','Tempo:', self._tempo)"
   ]
  },
  {
   "cell_type": "code",
   "execution_count": 7,
   "metadata": {},
   "outputs": [],
   "source": [
    "#DEPOIS DE IMPORTAR O MÓDULO DOS EVENTOS\n",
    "\n",
    "class cap():\n",
    "    \n",
    "    def __init__(self):\n",
    "        self.CAP=[]\n",
    "    \n",
    "    def adicionarE(self,e):     #AUMENTAR EFICIENCIA\n",
    "        pos=0\n",
    "        for i in self.CAP:\n",
    "            if i.tempo() < e.tempo():\n",
    "                pos=pos+1\n",
    "        self.CAP.insert(pos,e)\n",
    "        \n",
    "    def proxE(self):\n",
    "        assert len(self.CAP)>0\n",
    "        return self.CAP[0]\n",
    "    \n",
    "    def retirarE(self):\n",
    "        assert len(self.CAP)>0\n",
    "        self.CAP=self.CAP[1:]\n",
    "\n",
    "    def eliminarID(self,ID):\n",
    "        i=0\n",
    "        while i<len(self.CAP):\n",
    "            if self.CAP[i].ID()==ID:\n",
    "                self.CAP.remove(self.CAP[i])\n",
    "            if self.CAP[i].ID()!=ID:\n",
    "                i=i+1 \n",
    "                \n",
    "    def mostraC(self):\n",
    "        for e in self.CAP:\n",
    "            print ('ID:', e.ID(),'  ','Tipo:', e.tipo(),'  ','Tempo:', e.tempo())\n",
    "\n",
    "    def tamC(self):\n",
    "        return len(self.CAP)"
   ]
  },
  {
   "cell_type": "code",
   "execution_count": 8,
   "metadata": {},
   "outputs": [
    {
     "data": {
      "text/plain": [
       "0"
      ]
     },
     "execution_count": 8,
     "metadata": {},
     "output_type": "execute_result"
    }
   ],
   "source": [
    "C=cap()\n",
    "C.tamC()"
   ]
  },
  {
   "cell_type": "code",
   "execution_count": 9,
   "metadata": {},
   "outputs": [],
   "source": [
    "C.adicionarE(evento(1,'1',20))\n",
    "C.adicionarE(evento(6,'2',55))\n",
    "C.adicionarE(evento(6,'1',83))\n",
    "C.adicionarE(evento(4,'3',12))\n",
    "C.adicionarE(evento(5,'1',68))\n",
    "C.adicionarE(evento(6,'3',34))\n",
    "C.adicionarE(evento(7,'2',47))\n",
    "C.adicionarE(evento(8,'1',76))\n",
    "C.adicionarE(evento(9,'3',91))\n",
    "C.adicionarE(evento(6,'1',22))"
   ]
  },
  {
   "cell_type": "code",
   "execution_count": 10,
   "metadata": {},
   "outputs": [
    {
     "data": {
      "text/plain": [
       "10"
      ]
     },
     "execution_count": 10,
     "metadata": {},
     "output_type": "execute_result"
    }
   ],
   "source": [
    "C.tamC()"
   ]
  },
  {
   "cell_type": "code",
   "execution_count": 11,
   "metadata": {
    "scrolled": true
   },
   "outputs": [
    {
     "name": "stdout",
     "output_type": "stream",
     "text": [
      "ID: 4    Tipo: 3    Tempo: 12\n",
      "ID: 1    Tipo: 1    Tempo: 20\n",
      "ID: 6    Tipo: 1    Tempo: 22\n",
      "ID: 6    Tipo: 3    Tempo: 34\n",
      "ID: 7    Tipo: 2    Tempo: 47\n",
      "ID: 6    Tipo: 2    Tempo: 55\n",
      "ID: 5    Tipo: 1    Tempo: 68\n",
      "ID: 8    Tipo: 1    Tempo: 76\n",
      "ID: 6    Tipo: 1    Tempo: 83\n",
      "ID: 9    Tipo: 3    Tempo: 91\n"
     ]
    }
   ],
   "source": [
    "C.mostraC()"
   ]
  },
  {
   "cell_type": "code",
   "execution_count": 12,
   "metadata": {},
   "outputs": [
    {
     "data": {
      "text/plain": [
       "<__main__.evento at 0x286440ef208>"
      ]
     },
     "execution_count": 12,
     "metadata": {},
     "output_type": "execute_result"
    }
   ],
   "source": [
    "C.proxE()"
   ]
  },
  {
   "cell_type": "code",
   "execution_count": 13,
   "metadata": {},
   "outputs": [
    {
     "name": "stdout",
     "output_type": "stream",
     "text": [
      "ID: 4    Tipo: 3    Tempo: 12\n"
     ]
    }
   ],
   "source": [
    "C.proxE().mostraE()"
   ]
  },
  {
   "cell_type": "code",
   "execution_count": 14,
   "metadata": {},
   "outputs": [],
   "source": [
    "C.retirarE()"
   ]
  },
  {
   "cell_type": "code",
   "execution_count": 15,
   "metadata": {},
   "outputs": [
    {
     "name": "stdout",
     "output_type": "stream",
     "text": [
      "ID: 1    Tipo: 1    Tempo: 20\n"
     ]
    }
   ],
   "source": [
    "C.proxE().mostraE()"
   ]
  },
  {
   "cell_type": "code",
   "execution_count": 16,
   "metadata": {},
   "outputs": [],
   "source": [
    "C.eliminarID(6)"
   ]
  },
  {
   "cell_type": "code",
   "execution_count": 17,
   "metadata": {},
   "outputs": [
    {
     "name": "stdout",
     "output_type": "stream",
     "text": [
      "ID: 1    Tipo: 1    Tempo: 20\n",
      "ID: 7    Tipo: 2    Tempo: 47\n",
      "ID: 5    Tipo: 1    Tempo: 68\n",
      "ID: 8    Tipo: 1    Tempo: 76\n",
      "ID: 9    Tipo: 3    Tempo: 91\n"
     ]
    }
   ],
   "source": [
    "C.mostraC()"
   ]
  },
  {
   "cell_type": "code",
   "execution_count": null,
   "metadata": {},
   "outputs": [],
   "source": []
  }
 ],
 "metadata": {
  "kernelspec": {
   "display_name": "Python 3",
   "language": "python",
   "name": "python3"
  },
  "language_info": {
   "codemirror_mode": {
    "name": "ipython",
    "version": 3
   },
   "file_extension": ".py",
   "mimetype": "text/x-python",
   "name": "python",
   "nbconvert_exporter": "python",
   "pygments_lexer": "ipython3",
   "version": "3.6.5"
  }
 },
 "nbformat": 4,
 "nbformat_minor": 2
}
